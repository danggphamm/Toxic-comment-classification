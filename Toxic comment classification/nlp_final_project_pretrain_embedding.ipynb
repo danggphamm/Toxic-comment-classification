{
 "cells": [
  {
   "cell_type": "code",
   "execution_count": 1,
   "metadata": {},
   "outputs": [],
   "source": [
    "# Import Libraries\n",
    "# =========\n",
    "\n",
    "import re\n",
    "import matplotlib\n",
    "import numpy as np\n",
    "import matplotlib.pyplot as plt\n",
    "import pandas as pd\n",
    "import seaborn as sns\n",
    "\n",
    "import tensorflow as tf\n",
    "from tensorflow import keras\n",
    "from keras.preprocessing.text import Tokenizer\n",
    "from keras.preprocessing.sequence import pad_sequences\n",
    "from keras.utils import to_categorical\n",
    "from keras.models import Sequential\n",
    "from keras.layers import Dense, LSTM, GRU, Embedding, Input, Bidirectional\n",
    "from keras.layers.pooling import GlobalAveragePooling1D\n",
    "from keras.initializers import Constant\n",
    "from keras.callbacks import ModelCheckpoint\n",
    "from keras.optimizers import Adam\n",
    "\n",
    "from sklearn.model_selection import train_test_split\n",
    "from sklearn.svm import LinearSVC\n",
    "\n",
    "import nltk\n",
    "from nltk.corpus import stopwords\n",
    "stop_words = set(stopwords.words('english'))\n",
    "\n",
    "import tqdm\n",
    "from tqdm import tqdm"
   ]
  },
  {
   "cell_type": "code",
   "execution_count": 2,
   "metadata": {},
   "outputs": [],
   "source": [
    "# to make this notebook's output stable across runs\n",
    "np.random.seed(42)\n",
    "tf.random.set_seed(42)\n",
    "# To plot pretty figures"
   ]
  },
  {
   "cell_type": "code",
   "execution_count": 3,
   "metadata": {},
   "outputs": [],
   "source": [
    "# Reading csv data files using pandas dataframe \n",
    "# =============\n",
    "\n",
    "train = pd.read_csv(\"../data/nlp/train.csv.zip\", encoding = \"ISO-8859-1\")\n",
    "test = pd.read_csv(\"../data/nlp/test.csv.zip\", encoding = \"ISO-8859-1\")"
   ]
  },
  {
   "cell_type": "code",
   "execution_count": 4,
   "metadata": {},
   "outputs": [
    {
     "data": {
      "text/html": [
       "<div>\n",
       "<style scoped>\n",
       "    .dataframe tbody tr th:only-of-type {\n",
       "        vertical-align: middle;\n",
       "    }\n",
       "\n",
       "    .dataframe tbody tr th {\n",
       "        vertical-align: top;\n",
       "    }\n",
       "\n",
       "    .dataframe thead th {\n",
       "        text-align: right;\n",
       "    }\n",
       "</style>\n",
       "<table border=\"1\" class=\"dataframe\">\n",
       "  <thead>\n",
       "    <tr style=\"text-align: right;\">\n",
       "      <th></th>\n",
       "      <th>id</th>\n",
       "      <th>comment_text</th>\n",
       "      <th>toxic</th>\n",
       "      <th>severe_toxic</th>\n",
       "      <th>obscene</th>\n",
       "      <th>threat</th>\n",
       "      <th>insult</th>\n",
       "      <th>identity_hate</th>\n",
       "    </tr>\n",
       "  </thead>\n",
       "  <tbody>\n",
       "    <tr>\n",
       "      <th>0</th>\n",
       "      <td>0000997932d777bf</td>\n",
       "      <td>Explanation\\nWhy the edits made under my usern...</td>\n",
       "      <td>0</td>\n",
       "      <td>0</td>\n",
       "      <td>0</td>\n",
       "      <td>0</td>\n",
       "      <td>0</td>\n",
       "      <td>0</td>\n",
       "    </tr>\n",
       "    <tr>\n",
       "      <th>1</th>\n",
       "      <td>000103f0d9cfb60f</td>\n",
       "      <td>D'aww! He matches this background colour I'm s...</td>\n",
       "      <td>0</td>\n",
       "      <td>0</td>\n",
       "      <td>0</td>\n",
       "      <td>0</td>\n",
       "      <td>0</td>\n",
       "      <td>0</td>\n",
       "    </tr>\n",
       "    <tr>\n",
       "      <th>2</th>\n",
       "      <td>000113f07ec002fd</td>\n",
       "      <td>Hey man, I'm really not trying to edit war. It...</td>\n",
       "      <td>0</td>\n",
       "      <td>0</td>\n",
       "      <td>0</td>\n",
       "      <td>0</td>\n",
       "      <td>0</td>\n",
       "      <td>0</td>\n",
       "    </tr>\n",
       "    <tr>\n",
       "      <th>3</th>\n",
       "      <td>0001b41b1c6bb37e</td>\n",
       "      <td>\"\\nMore\\nI can't make any real suggestions on ...</td>\n",
       "      <td>0</td>\n",
       "      <td>0</td>\n",
       "      <td>0</td>\n",
       "      <td>0</td>\n",
       "      <td>0</td>\n",
       "      <td>0</td>\n",
       "    </tr>\n",
       "    <tr>\n",
       "      <th>4</th>\n",
       "      <td>0001d958c54c6e35</td>\n",
       "      <td>You, sir, are my hero. Any chance you remember...</td>\n",
       "      <td>0</td>\n",
       "      <td>0</td>\n",
       "      <td>0</td>\n",
       "      <td>0</td>\n",
       "      <td>0</td>\n",
       "      <td>0</td>\n",
       "    </tr>\n",
       "  </tbody>\n",
       "</table>\n",
       "</div>"
      ],
      "text/plain": [
       "                 id                                       comment_text  toxic  \\\n",
       "0  0000997932d777bf  Explanation\\nWhy the edits made under my usern...      0   \n",
       "1  000103f0d9cfb60f  D'aww! He matches this background colour I'm s...      0   \n",
       "2  000113f07ec002fd  Hey man, I'm really not trying to edit war. It...      0   \n",
       "3  0001b41b1c6bb37e  \"\\nMore\\nI can't make any real suggestions on ...      0   \n",
       "4  0001d958c54c6e35  You, sir, are my hero. Any chance you remember...      0   \n",
       "\n",
       "   severe_toxic  obscene  threat  insult  identity_hate  \n",
       "0             0        0       0       0              0  \n",
       "1             0        0       0       0              0  \n",
       "2             0        0       0       0              0  \n",
       "3             0        0       0       0              0  \n",
       "4             0        0       0       0              0  "
      ]
     },
     "execution_count": 4,
     "metadata": {},
     "output_type": "execute_result"
    }
   ],
   "source": [
    "train.head()"
   ]
  },
  {
   "cell_type": "code",
   "execution_count": 5,
   "metadata": {},
   "outputs": [
    {
     "data": {
      "text/html": [
       "<div>\n",
       "<style scoped>\n",
       "    .dataframe tbody tr th:only-of-type {\n",
       "        vertical-align: middle;\n",
       "    }\n",
       "\n",
       "    .dataframe tbody tr th {\n",
       "        vertical-align: top;\n",
       "    }\n",
       "\n",
       "    .dataframe thead th {\n",
       "        text-align: right;\n",
       "    }\n",
       "</style>\n",
       "<table border=\"1\" class=\"dataframe\">\n",
       "  <thead>\n",
       "    <tr style=\"text-align: right;\">\n",
       "      <th></th>\n",
       "      <th>id</th>\n",
       "      <th>comment_text</th>\n",
       "    </tr>\n",
       "  </thead>\n",
       "  <tbody>\n",
       "    <tr>\n",
       "      <th>0</th>\n",
       "      <td>00001cee341fdb12</td>\n",
       "      <td>Yo bitch Ja Rule is more succesful then you'll...</td>\n",
       "    </tr>\n",
       "    <tr>\n",
       "      <th>1</th>\n",
       "      <td>0000247867823ef7</td>\n",
       "      <td>== From RfC == \\n\\n The title is fine as it is...</td>\n",
       "    </tr>\n",
       "    <tr>\n",
       "      <th>2</th>\n",
       "      <td>00013b17ad220c46</td>\n",
       "      <td>\" \\n\\n == Sources == \\n\\n * Zawe Ashton on Lap...</td>\n",
       "    </tr>\n",
       "    <tr>\n",
       "      <th>3</th>\n",
       "      <td>00017563c3f7919a</td>\n",
       "      <td>:If you have a look back at the source, the in...</td>\n",
       "    </tr>\n",
       "    <tr>\n",
       "      <th>4</th>\n",
       "      <td>00017695ad8997eb</td>\n",
       "      <td>I don't anonymously edit articles at all.</td>\n",
       "    </tr>\n",
       "  </tbody>\n",
       "</table>\n",
       "</div>"
      ],
      "text/plain": [
       "                 id                                       comment_text\n",
       "0  00001cee341fdb12  Yo bitch Ja Rule is more succesful then you'll...\n",
       "1  0000247867823ef7  == From RfC == \\n\\n The title is fine as it is...\n",
       "2  00013b17ad220c46  \" \\n\\n == Sources == \\n\\n * Zawe Ashton on Lap...\n",
       "3  00017563c3f7919a  :If you have a look back at the source, the in...\n",
       "4  00017695ad8997eb          I don't anonymously edit articles at all."
      ]
     },
     "execution_count": 5,
     "metadata": {},
     "output_type": "execute_result"
    }
   ],
   "source": [
    "test.head()"
   ]
  },
  {
   "cell_type": "code",
   "execution_count": 6,
   "metadata": {},
   "outputs": [],
   "source": [
    "### Before cleaning the dataset I would like to perform EDA(Exploratory data analysis) by performing data visualization to understand\n",
    "### the distribution of different classes. I will be performing EDA on training dataset\n",
    "\n",
    "categorywise_data = train.drop(['id', 'comment_text'], axis=1)     ### Removed unnecessary columns - id and comment_text\n",
    "counts_category = []                                               ### A list that contains tuple which consists of class label and number of comments for that particular class \n",
    "categories = list(categorywise_data.columns.values)\n",
    "for i in categories:\n",
    "    counts_category.append((i, categorywise_data[i].sum()))\n",
    "    \n",
    "dataframe = pd.DataFrame(counts_category, columns=['Labels', 'number_of_comments'])   ### Dataframe made up of category and total number of comments"
   ]
  },
  {
   "cell_type": "code",
   "execution_count": 7,
   "metadata": {},
   "outputs": [
    {
     "data": {
      "text/plain": [
       "Text(0.5, 0, 'Labels')"
      ]
     },
     "execution_count": 7,
     "metadata": {},
     "output_type": "execute_result"
    },
    {
     "data": {
      "image/png": "[encoded data removed]",
      "text/plain": [
       "<Figure size 576x576 with 1 Axes>"
      ]
     },
     "metadata": {
      "needs_background": "light"
     },
     "output_type": "display_data"
    }
   ],
   "source": [
    "### Visualization 1\n",
    "\n",
    "### Bar graph of total number of comments per label \n",
    "### This visualization is helpful in identifying the total number of comments per label\n",
    "dataframe.plot(x='Labels', y='number_of_comments', kind='bar',figsize=(8,8))\n",
    "plt.title(\"Number of comments per category\")\n",
    "plt.ylabel('No. of Occurrences', fontsize=12)\n",
    "plt.xlabel('Labels', fontsize=12)\n",
    "\n",
    "### From the below graph we can observe that most of the comments having toxic label. \n",
    "### Threat label is having lowest no. of comments"
   ]
  },
  {
   "cell_type": "code",
   "execution_count": 8,
   "metadata": {},
   "outputs": [],
   "source": [
    "# Remove the Stop world\n",
    "# Convert everything to lower case\n",
    "# Remove special characters and punctuations\n",
    "# Remove wordds that have lwss than 3 charecters\n",
    "# =============\n",
    "\n",
    "stemmer = nltk.SnowballStemmer(\"english\")\n",
    "stop_words = set(stopwords.words('english'))\n",
    "def preprocess(string):\n",
    "    string = string.lower() # Convert everything to lower case.\n",
    "    string = re.sub('[^A-Za-z0-9]+', ' ', string) # Remove special characters and punctuations\n",
    "    string = re.sub(r'\\b\\w{1,3}\\b', ' ', string) # Remove words that have less than 3 characters\n",
    "    \n",
    "    x = string.split()\n",
    "    new_text = []\n",
    "    \n",
    "    for word in x:\n",
    "        if word not in stop_words: # Remove stop worlds\n",
    "            new_text.append(stemmer.stem(word))\n",
    "            \n",
    "    string = ' '.join(new_text)\n",
    "    return string"
   ]
  },
  {
   "cell_type": "code",
   "execution_count": 9,
   "metadata": {},
   "outputs": [
    {
     "name": "stdout",
     "output_type": "stream",
     "text": [
      "CPU times: user 1min 46s, sys: 1.38 s, total: 1min 48s\n",
      "Wall time: 1min 53s\n"
     ]
    }
   ],
   "source": [
    "%%time\n",
    "train['preprocessed_text'] = train['comment_text'].apply(preprocess) # Compute the train prepossing time"
   ]
  },
  {
   "cell_type": "code",
   "execution_count": 10,
   "metadata": {},
   "outputs": [
    {
     "name": "stdout",
     "output_type": "stream",
     "text": [
      "CPU times: user 1min 34s, sys: 1.48 s, total: 1min 36s\n",
      "Wall time: 1min 39s\n"
     ]
    }
   ],
   "source": [
    "%%time\n",
    "test['preprocessed_text'] = test['comment_text'].apply(preprocess) # Compute the test prepossing time"
   ]
  },
  {
   "cell_type": "code",
   "execution_count": 11,
   "metadata": {},
   "outputs": [],
   "source": [
    "# train test split\n",
    "# ================\n",
    "\n",
    "train_data = train[['preprocessed_text']]\n",
    "train_label = train[['toxic', 'severe_toxic', 'obscene', 'threat','insult', 'identity_hate']]\n",
    "test_data = test[['preprocessed_text']]\n",
    "#X_train, X_validation, y_train, y_validation = train_test_split(train_full, train_label, shuffle = True, random_state = 123)"
   ]
  },
  {
   "cell_type": "code",
   "execution_count": 12,
   "metadata": {},
   "outputs": [],
   "source": [
    "# Saving the files to csv so that we dont need to preprocess again.\n",
    "# =====================\n",
    "\n",
    "train_data.to_pickle('train_data.pkl')\n",
    "test_data.to_pickle('test_data.pkl')"
   ]
  },
  {
   "cell_type": "code",
   "execution_count": 13,
   "metadata": {},
   "outputs": [],
   "source": [
    "# To load the csv files:\n",
    "# =============\n",
    "\n",
    "train_data = pd.read_pickle('train_data.pkl')\n",
    "test_data = pd.read_pickle('test_data.pkl')"
   ]
  },
  {
   "cell_type": "code",
   "execution_count": null,
   "metadata": {},
   "outputs": [],
   "source": []
  },
  {
   "cell_type": "code",
   "execution_count": 14,
   "metadata": {},
   "outputs": [],
   "source": [
    "def load_glove():\n",
    "    embedding_dict = {}\n",
    "    path = '../data/glove.6B/glove.6B.100d.txt'\n",
    "    with open(path, 'r') as f:\n",
    "        for line in f:\n",
    "            values = line.split()\n",
    "            word = values[0]\n",
    "            vectors = np.asarray(values[1:], 'float32')\n",
    "            embedding_dict[word] = vectors\n",
    "    f.close()\n",
    "\n",
    "    return embedding_dict\n",
    "\n",
    "\n",
    "#embeddings_index = load_glove()\n",
    "#embeddings_index['london'].shape"
   ]
  },
  {
   "cell_type": "code",
   "execution_count": 15,
   "metadata": {},
   "outputs": [
    {
     "data": {
      "text/html": [
       "<div>\n",
       "<style scoped>\n",
       "    .dataframe tbody tr th:only-of-type {\n",
       "        vertical-align: middle;\n",
       "    }\n",
       "\n",
       "    .dataframe tbody tr th {\n",
       "        vertical-align: top;\n",
       "    }\n",
       "\n",
       "    .dataframe thead th {\n",
       "        text-align: right;\n",
       "    }\n",
       "</style>\n",
       "<table border=\"1\" class=\"dataframe\">\n",
       "  <thead>\n",
       "    <tr style=\"text-align: right;\">\n",
       "      <th></th>\n",
       "      <th>preprocessed_text</th>\n",
       "    </tr>\n",
       "  </thead>\n",
       "  <tbody>\n",
       "    <tr>\n",
       "      <th>0</th>\n",
       "      <td>explan edit made usernam hardcor metallica rev...</td>\n",
       "    </tr>\n",
       "    <tr>\n",
       "      <th>1</th>\n",
       "      <td>match background colour seem stuck thank talk ...</td>\n",
       "    </tr>\n",
       "    <tr>\n",
       "      <th>2</th>\n",
       "      <td>realli tri edit constant remov relev inform ta...</td>\n",
       "    </tr>\n",
       "    <tr>\n",
       "      <th>3</th>\n",
       "      <td>make real suggest improv wonder section statis...</td>\n",
       "    </tr>\n",
       "    <tr>\n",
       "      <th>4</th>\n",
       "      <td>hero chanc rememb page</td>\n",
       "    </tr>\n",
       "  </tbody>\n",
       "</table>\n",
       "</div>"
      ],
      "text/plain": [
       "                                   preprocessed_text\n",
       "0  explan edit made usernam hardcor metallica rev...\n",
       "1  match background colour seem stuck thank talk ...\n",
       "2  realli tri edit constant remov relev inform ta...\n",
       "3  make real suggest improv wonder section statis...\n",
       "4                             hero chanc rememb page"
      ]
     },
     "execution_count": 15,
     "metadata": {},
     "output_type": "execute_result"
    }
   ],
   "source": [
    "train_data.head()"
   ]
  },
  {
   "cell_type": "code",
   "execution_count": 16,
   "metadata": {},
   "outputs": [
    {
     "name": "stdout",
     "output_type": "stream",
     "text": [
      "Shape of training data (159571, 150)\n",
      "Shape of testing data (153164, 150)\n"
     ]
    }
   ],
   "source": [
    "MAX_LEN=150\n",
    "\n",
    "train_text = train_data[\"preprocessed_text\"]\n",
    "test_text = test_data[\"preprocessed_text\"]\n",
    "\n",
    "### Creating corpus of words and coverting it into integer and then susbstituing it in sentences - prepare tokenizer\n",
    "\n",
    "tokenizer=Tokenizer(num_words = 40000) # Tokenizer(num_words = 50000) #50000 words are used here\n",
    "tokenizer.fit_on_texts(train_text)\n",
    "\n",
    "#convert each text into array of integers with help of tokenizer.\n",
    "train_seq=tokenizer.texts_to_sequences(train_text)\n",
    "test_seq=tokenizer.texts_to_sequences(test_text)\n",
    "\n",
    "\n",
    "### Padding - Every sentence is unequal in length. We need to have all the sentence equal in lengths\n",
    "### If length of sentence is less than 150 then padding will increase sentence length to 150 by adding zeros, if its greater\n",
    "### than 150 then it will reduce the length of sentence to 150 by trimming the words\n",
    "\n",
    "train_padded =pad_sequences(train_seq, maxlen=MAX_LEN)\n",
    "test_padded =pad_sequences(test_seq, maxlen=MAX_LEN)\n",
    "print(\"Shape of training data\",train_padded.shape)\n",
    "print(\"Shape of testing data\",test_padded.shape)\n"
   ]
  },
  {
   "cell_type": "code",
   "execution_count": 17,
   "metadata": {},
   "outputs": [
    {
     "name": "stdout",
     "output_type": "stream",
     "text": [
      "Number of unique words: 137691\n"
     ]
    }
   ],
   "source": [
    "word_index=tokenizer.word_index\n",
    "num_words = len(word_index)\n",
    "print('Number of unique words:',len(word_index))"
   ]
  },
  {
   "cell_type": "code",
   "execution_count": 18,
   "metadata": {},
   "outputs": [],
   "source": [
    "def prepare_matrix(embedding_dict, emb_size=100):\n",
    "    num_words = len(word_index)\n",
    "    embedding_matrix = np.zeros((num_words, emb_size))\n",
    "\n",
    "    for word, i in tqdm(word_index.items()):\n",
    "        if i > num_words:\n",
    "            continue\n",
    "\n",
    "    emb_vec = embedding_dict.get(word)\n",
    "    if emb_vec is not None:\n",
    "        embedding_matrix[i] = emb_vec\n",
    "\n",
    "    return embedding_matrix"
   ]
  },
  {
   "cell_type": "code",
   "execution_count": 30,
   "metadata": {},
   "outputs": [],
   "source": [
    "def model1(embedding_matrix):\n",
    "    \n",
    "    embedding=Embedding(num_words,embedding_matrix.shape[1], weights=[embedding_matrix],\n",
    "                   input_length=MAX_LEN,trainable=False)\n",
    "    \n",
    "    model = Sequential()\n",
    "    model.add(embedding)\n",
    "    model.add(LSTM(units = 64, dropout = 0.2,return_sequences=True))\n",
    "    model.add(LSTM(units = 64, dropout = 0.2))\n",
    "    model.add(Dense(units = 6, activation = 'sigmoid'))\n",
    "    \n",
    "    optimzer=Adam(learning_rate=1e-5)\n",
    "\n",
    "    model.compile(loss='binary_crossentropy',optimizer=optimzer,metrics=['AUC'])\n",
    "    \n",
    "    return model\n"
   ]
  },
  {
   "cell_type": "code",
   "execution_count": 31,
   "metadata": {},
   "outputs": [],
   "source": [
    "def model2(embedding_matrix):\n",
    "    \n",
    "    embedding=Embedding(num_words,embedding_matrix.shape[1], weights=[embedding_matrix],\n",
    "                   input_length=MAX_LEN,trainable=False)\n",
    "    \n",
    "    model = Sequential()\n",
    "    model.add(embedding)\n",
    "    model.add(GRU(units = 64, dropout = 0.2,return_sequences=True))\n",
    "    model.add(GRU(units = 64, dropout = 0.2))\n",
    "    model.add(Dense(units = 6, activation = 'sigmoid'))\n",
    "    \n",
    "    optimzer=Adam(learning_rate=1e-5)\n",
    "\n",
    "    model.compile(loss='binary_crossentropy',optimizer=optimzer,metrics=['AUC'])\n",
    "    \n",
    "    return model"
   ]
  },
  {
   "cell_type": "code",
   "execution_count": 32,
   "metadata": {},
   "outputs": [],
   "source": [
    "X_train, X_validation, y_train, y_validation = train_test_split(train_padded, train_label, shuffle = True, random_state = 123)"
   ]
  },
  {
   "cell_type": "code",
   "execution_count": 33,
   "metadata": {},
   "outputs": [
    {
     "name": "stderr",
     "output_type": "stream",
     "text": [
      "100%|██████████| 137691/137691 [00:00<00:00, 1992031.82it/s]\n"
     ]
    }
   ],
   "source": [
    "embeddings_index=load_glove()\n",
    "embedding_matrix=prepare_matrix(embeddings_index)"
   ]
  },
  {
   "cell_type": "code",
   "execution_count": 34,
   "metadata": {},
   "outputs": [
    {
     "name": "stdout",
     "output_type": "stream",
     "text": [
      "Model: \"sequential_4\"\n",
      "_________________________________________________________________\n",
      "Layer (type)                 Output Shape              Param #   \n",
      "=================================================================\n",
      "embedding_4 (Embedding)      (None, 150, 100)          13769100  \n",
      "_________________________________________________________________\n",
      "lstm_4 (LSTM)                (None, 150, 64)           42240     \n",
      "_________________________________________________________________\n",
      "lstm_5 (LSTM)                (None, 64)                33024     \n",
      "_________________________________________________________________\n",
      "dense_4 (Dense)              (None, 6)                 390       \n",
      "=================================================================\n",
      "Total params: 13,844,754\n",
      "Trainable params: 75,654\n",
      "Non-trainable params: 13,769,100\n",
      "_________________________________________________________________\n"
     ]
    }
   ],
   "source": [
    "model1=model1(embedding_matrix)\n",
    "model1.summary()"
   ]
  },
  {
   "cell_type": "code",
   "execution_count": 35,
   "metadata": {},
   "outputs": [
    {
     "name": "stdout",
     "output_type": "stream",
     "text": [
      "Model: \"sequential_5\"\n",
      "_________________________________________________________________\n",
      "Layer (type)                 Output Shape              Param #   \n",
      "=================================================================\n",
      "embedding_5 (Embedding)      (None, 150, 100)          13769100  \n",
      "_________________________________________________________________\n",
      "gru_4 (GRU)                  (None, 150, 64)           31872     \n",
      "_________________________________________________________________\n",
      "gru_5 (GRU)                  (None, 64)                24960     \n",
      "_________________________________________________________________\n",
      "dense_5 (Dense)              (None, 6)                 390       \n",
      "=================================================================\n",
      "Total params: 13,826,322\n",
      "Trainable params: 57,222\n",
      "Non-trainable params: 13,769,100\n",
      "_________________________________________________________________\n"
     ]
    }
   ],
   "source": [
    "model2=model2(embedding_matrix)\n",
    "model2.summary()"
   ]
  },
  {
   "cell_type": "code",
   "execution_count": 36,
   "metadata": {},
   "outputs": [
    {
     "name": "stdout",
     "output_type": "stream",
     "text": [
      "120/120 - 268s - loss: 0.6906 - auc: 0.5652 - val_loss: 0.6873 - val_auc: 0.7075\n"
     ]
    }
   ],
   "source": [
    "history=model1.fit(X_train,y_train,\n",
    "                  batch_size=1000,\n",
    "                  epochs=1,\n",
    "                  validation_data=(X_validation,y_validation),\n",
    "                  verbose=2)"
   ]
  },
  {
   "cell_type": "code",
   "execution_count": 38,
   "metadata": {},
   "outputs": [
    {
     "name": "stdout",
     "output_type": "stream",
     "text": [
      "Epoch 1/3\n",
      "120/120 - 230s - loss: 0.6802 - auc: 0.5506 - val_loss: 0.6737 - val_auc: 0.6059\n",
      "Epoch 2/3\n",
      "120/120 - 224s - loss: 0.6650 - auc: 0.5750 - val_loss: 0.6544 - val_auc: 0.6059\n",
      "Epoch 3/3\n",
      "120/120 - 222s - loss: 0.6397 - auc: 0.5861 - val_loss: 0.6215 - val_auc: 0.6059\n"
     ]
    }
   ],
   "source": [
    "history=model2.fit(X_train,y_train,\n",
    "                  batch_size=1000,\n",
    "                  epochs=3,\n",
    "                  validation_data=(X_validation,y_validation),\n",
    "                  verbose=2)"
   ]
  },
  {
   "cell_type": "code",
   "execution_count": null,
   "metadata": {},
   "outputs": [],
   "source": []
  }
 ],
 "metadata": {
  "kernelspec": {
   "display_name": "Python 3",
   "language": "python",
   "name": "python3"
  },
  "language_info": {
   "codemirror_mode": {
    "name": "ipython",
    "version": 3
   },
   "file_extension": ".py",
   "mimetype": "text/x-python",
   "name": "python",
   "nbconvert_exporter": "python",
   "pygments_lexer": "ipython3",
   "version": "3.7.7"
  }
 },
 "nbformat": 4,
 "nbformat_minor": 4
}
